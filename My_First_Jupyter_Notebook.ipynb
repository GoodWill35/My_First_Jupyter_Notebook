{
  "nbformat": 4,
  "nbformat_minor": 0,
  "metadata": {
    "colab": {
      "provenance": []
    },
    "kernelspec": {
      "name": "python3",
      "display_name": "Python 3"
    },
    "language_info": {
      "name": "python"
    }
  },
  "cells": [
    {
      "cell_type": "markdown",
      "source": [
        "# Data Science Tools and Ecosystem\n",
        "In this notebook, data science tools and ecosystems are summarized."
      ],
      "metadata": {
        "id": "H7gAaEZMStBG"
      }
    },
    {
      "cell_type": "markdown",
      "source": [
        "__Objectives:__\n",
        "- Popular languages for data science\n",
        "- Commonly used libraries in data science\n",
        "- Data Science tools\n",
        "- Simple expressions in Python"
      ],
      "metadata": {
        "id": "eJsJ_YCfWtC5"
      }
    },
    {
      "cell_type": "markdown",
      "source": [
        "Some of the popular languages that Data Scientists use are:\n",
        "\n",
        "\n",
        "1. Python\n",
        "2. R\n",
        "3. SQL\n",
        "\n",
        "\n",
        "\n",
        "\n"
      ],
      "metadata": {
        "id": "cwjPi3jrTcTw"
      }
    },
    {
      "cell_type": "markdown",
      "source": [
        "Some of the commonly used libraries used by Data Scientists include:\n",
        "1. Pandas\n",
        "2. Matplotlib\n",
        "3. GGplot2\n"
      ],
      "metadata": {
        "id": "Z1LXfs9RT2n9"
      }
    },
    {
      "cell_type": "markdown",
      "source": [
        "| Data Science Tools |\n",
        "| --- |\n",
        "| R Studio |\n",
        "| GitHub |\n",
        "| Apache Spark |"
      ],
      "metadata": {
        "id": "Lx0UabrKUt0_"
      }
    },
    {
      "cell_type": "markdown",
      "source": [
        "### Below are a few examples of evaluating arithmetic expressions in Python.\n"
      ],
      "metadata": {
        "id": "i-pBPuNgVu8I"
      }
    },
    {
      "cell_type": "code",
      "source": [
        "# This is a simple arithmetic expression to multiply then add integers\n",
        "(3*4)+5"
      ],
      "metadata": {
        "colab": {
          "base_uri": "https://localhost:8080/"
        },
        "id": "1KE8Ud4DT_To",
        "outputId": "af51e912-1090-4cf4-e00d-219dd26fa50c"
      },
      "execution_count": 2,
      "outputs": [
        {
          "output_type": "execute_result",
          "data": {
            "text/plain": [
              "17"
            ]
          },
          "metadata": {},
          "execution_count": 2
        }
      ]
    },
    {
      "cell_type": "code",
      "source": [
        "# This will convert 200 minutes to hours by dividing by 60\n",
        "(200/60)"
      ],
      "metadata": {
        "colab": {
          "base_uri": "https://localhost:8080/"
        },
        "id": "LCmzX9LFWLKO",
        "outputId": "5adddfbc-68ff-4fb2-bf02-1379c67f557c"
      },
      "execution_count": 3,
      "outputs": [
        {
          "output_type": "execute_result",
          "data": {
            "text/plain": [
              "3.3333333333333335"
            ]
          },
          "metadata": {},
          "execution_count": 3
        }
      ]
    },
    {
      "cell_type": "markdown",
      "source": [
        "## Author\n",
        "Will Goodman"
      ],
      "metadata": {
        "id": "GUXBovNDXi6j"
      }
    },
    {
      "cell_type": "code",
      "source": [],
      "metadata": {
        "id": "rvX4XdDxWUae"
      },
      "execution_count": null,
      "outputs": []
    }
  ]
}